{
 "cells": [
  {
   "cell_type": "code",
   "execution_count": 4,
   "metadata": {},
   "outputs": [
    {
     "name": "stdout",
     "output_type": "stream",
     "text": [
      "x= 4 y= 5\n",
      "x= 20 y= 6\n",
      "x= 120 y= 7\n",
      "factorial of 8: 840\n"
     ]
    }
   ],
   "source": [
    "import functools\n",
    "def mult(x,y):\n",
    "    print(\"x=\",x, \"y=\",y)\n",
    "    return x*y\n",
    "fact=functools.reduce(mult, range(4,8))\n",
    "print(\"factorial of 8:\",fact)"
   ]
  },
  {
   "cell_type": "markdown",
   "metadata": {},
   "source": [
    "reduce()- the reduce(fun,seq) function is used to apply a particular function passed in it's argument to all of the list elements mentioned in the sequence passed along.This function is defined in \"functools\" module.¶\n",
    "\n"
   ]
  },
  {
   "cell_type": "code",
   "execution_count": 9,
   "metadata": {},
   "outputs": [
    {
     "name": "stdout",
     "output_type": "stream",
     "text": [
      "[('wood', 'India'), ('mark', 'US'), ('jhon', 'UK'), ('pant', 'India')]\n"
     ]
    }
   ],
   "source": [
    "names = ['wood','mark','jhon','pant','mike']\n",
    "country = [\"India\",\"US\",\"UK\",\"India\"]\n",
    "mapped=list(zip(names,country))\n",
    "print(mapped)"
   ]
  },
  {
   "cell_type": "markdown",
   "metadata": {},
   "source": [
    "zip() - The purpose of zip is to map the similar inder of multiple containers so that they can be used just using as a single entity.¶\n"
   ]
  },
  {
   "cell_type": "code",
   "execution_count": 10,
   "metadata": {},
   "outputs": [
    {
     "name": "stdout",
     "output_type": "stream",
     "text": [
      "(0, 'samsung')\n",
      "(1, 'apple')\n",
      "(2, 'oppo')\n",
      "(3, 'oneplus')\n"
     ]
    }
   ],
   "source": [
    "l1 = ['samsung','apple','oppo','oneplus']\n",
    "for item in enumerate(l1):\n",
    "    print(item)"
   ]
  },
  {
   "cell_type": "markdown",
   "metadata": {},
   "source": [
    "enumerate() - enumerate() method adds a counter to an iterable and returns it in a form of enumerate object."
   ]
  },
  {
   "cell_type": "code",
   "execution_count": null,
   "metadata": {},
   "outputs": [],
   "source": []
  }
 ],
 "metadata": {
  "kernelspec": {
   "display_name": "Python 3",
   "language": "python",
   "name": "python3"
  },
  "language_info": {
   "codemirror_mode": {
    "name": "ipython",
    "version": 3
   },
   "file_extension": ".py",
   "mimetype": "text/x-python",
   "name": "python",
   "nbconvert_exporter": "python",
   "pygments_lexer": "ipython3",
   "version": "3.8.5"
  }
 },
 "nbformat": 4,
 "nbformat_minor": 4
}
