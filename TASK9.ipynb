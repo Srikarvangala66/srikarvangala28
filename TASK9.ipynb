{
 "cells": [
  {
   "cell_type": "code",
   "execution_count": 4,
   "metadata": {},
   "outputs": [
    {
     "name": "stdout",
     "output_type": "stream",
     "text": [
      "ENTER YOUR NUMBER18\n",
      "ENTER YOUR NUMBER29\n",
      "1.add\n",
      "2.sub\n",
      "3.mul\n",
      "4.div\n",
      "choice(1 or 2 or 3 or 4 )6\n",
      "WRONG KEY\n"
     ]
    }
   ],
   "source": [
    "a1=int(input('ENTER YOUR NUMBER1'))\n",
    "a2=int(input('ENTER YOUR NUMBER2'))\n",
    "print('1.add')\n",
    "print('2.sub')\n",
    "print('3.mul')\n",
    "print('4.div')\n",
    "select1=int(input('choice(1 or 2 or 3 or 4 )'))\n",
    "if select1 == 1:\n",
    "    sum= a1+a2\n",
    "    print('output',sum)\n",
    "elif select1==2:\n",
    "        sub=a1-a2\n",
    "        print('output',sub)\n",
    "elif select1==3:\n",
    "    mul=a1*a2\n",
    "    print('output',mul)\n",
    "elif select1==4:\n",
    "    div=a1/a2\n",
    "    print('output',div)\n",
    "else:\n",
    "    print('WRONG KEY')\n",
    "\n"
   ]
  },
  {
   "cell_type": "code",
   "execution_count": null,
   "metadata": {},
   "outputs": [],
   "source": []
  },
  {
   "cell_type": "code",
   "execution_count": null,
   "metadata": {},
   "outputs": [],
   "source": []
  },
  {
   "cell_type": "code",
   "execution_count": null,
   "metadata": {},
   "outputs": [],
   "source": []
  }
 ],
 "metadata": {
  "kernelspec": {
   "display_name": "Python 3",
   "language": "python",
   "name": "python3"
  },
  "language_info": {
   "codemirror_mode": {
    "name": "ipython",
    "version": 3
   },
   "file_extension": ".py",
   "mimetype": "text/x-python",
   "name": "python",
   "nbconvert_exporter": "python",
   "pygments_lexer": "ipython3",
   "version": "3.8.5"
  }
 },
 "nbformat": 4,
 "nbformat_minor": 4
}
