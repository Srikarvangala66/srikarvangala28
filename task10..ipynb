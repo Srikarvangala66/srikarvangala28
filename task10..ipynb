{
  "nbformat": 4,
  "nbformat_minor": 0,
  "metadata": {
    "colab": {
      "name": "Untitled3.ipynb",
      "private_outputs": true,
      "provenance": []
    },
    "kernelspec": {
      "name": "python3",
      "display_name": "Python 3"
    }
  },
  "cells": [
    {
      "cell_type": "code",
      "metadata": {
        "id": "fKq0ipKKZI8P"
      },
      "source": [
        "tup1=(28,29,\"bag\",\"toy\")\r\n",
        "for item in tup1:\r\n",
        "  print(item)"
      ],
      "execution_count": null,
      "outputs": []
    },
    {
      "cell_type": "code",
      "metadata": {
        "id": "rd-GuoV8Zr3d"
      },
      "source": [
        "tup2=[1,9,'city','town']\r\n",
        "for item in tup2:\r\n",
        "  print(item)"
      ],
      "execution_count": null,
      "outputs": []
    },
    {
      "cell_type": "code",
      "metadata": {
        "id": "pb-vpv4DaFMh"
      },
      "source": [
        "stateandcapital={'telengana':'hyderabad','andhra':'vizag','tamilnadu':'chennai'}\r\n",
        "for capital in stateandcapital.values(): \r\n",
        "  print(capital)\r\n"
      ],
      "execution_count": null,
      "outputs": []
    },
    {
      "cell_type": "code",
      "metadata": {
        "id": "_KceUG-Rcn9I"
      },
      "source": [
        "stateandcapital={'telengana':'hyderabad','andhra':'vizag','tamilnadu':'chennai'}\r\n",
        "for state in stateandcapital.keys(): \r\n",
        "  print(state)"
      ],
      "execution_count": null,
      "outputs": []
    },
    {
      "cell_type": "code",
      "metadata": {
        "id": "DfPzpuorcmMY"
      },
      "source": [
        "stateandcapital={'telengana':'hyderabad','andhra':'vizag','tamilnadu':'chennai'}\r\n",
        "for state,capital in stateandcapital.items(): \r\n",
        "  print(stateandcapital)\r\n"
      ],
      "execution_count": null,
      "outputs": []
    },
    {
      "cell_type": "code",
      "metadata": {
        "id": "9nFdVNsVa2GS"
      },
      "source": [
        ""
      ],
      "execution_count": null,
      "outputs": []
    },
    {
      "cell_type": "code",
      "metadata": {
        "id": "BR5XGyCgdLeA"
      },
      "source": [
        ""
      ],
      "execution_count": null,
      "outputs": []
    }
  ]
}