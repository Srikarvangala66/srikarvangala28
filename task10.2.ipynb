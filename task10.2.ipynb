{
  "nbformat": 4,
  "nbformat_minor": 0,
  "metadata": {
    "colab": {
      "name": "Untitled2.ipynb",
      "private_outputs": true,
      "provenance": []
    },
    "kernelspec": {
      "name": "python3",
      "display_name": "Python 3"
    }
  },
  "cells": [
    {
      "cell_type": "code",
      "metadata": {
        "id": "w69ucAJHlW_x"
      },
      "source": [
        "count = 10\r\n",
        "while(count>0):\r\n",
        "    print(count)\r\n",
        "    count = count - 1"
      ],
      "execution_count": null,
      "outputs": []
    }
  ]
}