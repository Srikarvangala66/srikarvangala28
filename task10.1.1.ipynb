{
  "nbformat": 4,
  "nbformat_minor": 0,
  "metadata": {
    "colab": {
      "name": "Untitled1.ipynb",
      "private_outputs": true,
      "provenance": [],
      "collapsed_sections": [],
      "toc_visible": true
    },
    "kernelspec": {
      "name": "python3",
      "display_name": "Python 3"
    }
  },
  "cells": [
    {
      "cell_type": "markdown",
      "metadata": {
        "id": "2Cjn_9k4dFQ_"
      },
      "source": [
        "count=0\r\n",
        "while(count>10):\r\n",
        "  count+=2\r\n",
        "  if (count%3==0):\r\n",
        "    continue\r\n",
        "    print(count)"
      ]
    },
    {
      "cell_type": "code",
      "metadata": {
        "id": "EUG4KLZAj_o5"
      },
      "source": [
        "count=0 \r\n",
        "while(count>10):\r\n",
        "   count+=2 \r\n",
        "   if (count%3==0): \r\n",
        "     continue \r\n",
        "     print(count)\r\n",
        "\r\n"
      ],
      "execution_count": null,
      "outputs": []
    },
    {
      "cell_type": "code",
      "metadata": {
        "id": "z8PvROFtj_Rm"
      },
      "source": [
        ""
      ],
      "execution_count": null,
      "outputs": []
    },
    {
      "cell_type": "code",
      "metadata": {
        "id": "2fcQLMDSj9kt"
      },
      "source": [
        ""
      ],
      "execution_count": null,
      "outputs": []
    },
    {
      "cell_type": "markdown",
      "metadata": {
        "id": "mWPOPt2Ai8Da"
      },
      "source": [
        "\r\n",
        "continue\r\n",
        "continue keyword takes the execution to the begining of the loop. In other word it skips that perticular iteration\r\n",
        "\r\n",
        "In [5]:"
      ]
    },
    {
      "cell_type": "markdown",
      "metadata": {
        "id": "xtDUySi0i8af"
      },
      "source": [
        "\r\n",
        "pass\r\n",
        "pass keyword does nothing but you can avoid getting an error when empty code is not allowed. Empty code is not allowed in loops,if else conditions,functions,Classes etc"
      ]
    },
    {
      "cell_type": "code",
      "metadata": {
        "id": "5cK2AudJk4S8"
      },
      "source": [
        "if (9<10):\r\n",
        "  pass\r\n"
      ],
      "execution_count": null,
      "outputs": []
    },
    {
      "cell_type": "code",
      "metadata": {
        "id": "D__mDqVdi9Aj"
      },
      "source": [
        ""
      ],
      "execution_count": null,
      "outputs": []
    },
    {
      "cell_type": "code",
      "metadata": {
        "id": "ED6Fdc_gi5eY"
      },
      "source": [
        ""
      ],
      "execution_count": null,
      "outputs": []
    }
  ]
}